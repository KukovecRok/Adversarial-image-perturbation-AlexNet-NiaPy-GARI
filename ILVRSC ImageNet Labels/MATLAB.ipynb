{
 "metadata": {
  "language_info": {
   "codemirror_mode": {
    "name": "ipython",
    "version": 3
   },
   "file_extension": ".py",
   "mimetype": "text/x-python",
   "name": "python",
   "nbconvert_exporter": "python",
   "pygments_lexer": "ipython3",
   "version": "3.8.3-final"
  },
  "orig_nbformat": 2,
  "kernelspec": {
   "name": "python3",
   "display_name": "Python 3",
   "language": "python"
  }
 },
 "nbformat": 4,
 "nbformat_minor": 2,
 "cells": [
  {
   "source": [
    "# Acquiring labels - ILSVRC validation - Imagenet\n",
    "## ILSVRC2010 val\n",
    "\n",
    "## First things First\n",
    "* class_names_ImageNet.txt = Text file of categories AlexNet can predict\n",
    "* ILSVRC2010_validation_ground_truth.txt = From devkit, line sequence of ILSVRC2010\\_val_*.JPEG, each line containing Category_ID of image\n",
    "* meta.mat = From devkit, containing Category_ID, glossary, other info\n",
    "## About\n",
    "* Why ImageNet Dataset ?\n",
    "* What is the label of ILSVRC2010\\_val_*.JPEG\n",
    "\n",
    "\n",
    "\n",
    "\"ImageNet is an image database organized according to the WordNet hierarchy (currently only the nouns), in which each node of the hierarchy is depicted by hundreds and thousands of images.\" \n",
    "\n",
    "Accesable at [Explore ImageNet](http://image-net.org/explore)\n",
    "\n",
    "Each Dataset (ILSVRC) comes with a devkit. In my case, I will be usign 2010's validation set, which comes with file \"meta.mat\". It can be opened with MatLab.\n",
    "I've copied the contents of synsets into .txt, converted it to csv = \"MatlabData.csv\""
   ],
   "cell_type": "markdown",
   "metadata": {}
  },
  {
   "cell_type": "code",
   "execution_count": 3,
   "metadata": {},
   "outputs": [
    {
     "output_type": "stream",
     "name": "stdout",
     "text": [
      "(1676, 1)\n"
     ]
    },
    {
     "output_type": "execute_result",
     "data": {
      "text/plain": [
       "                                                 Kategorija  ID_Kategorija\n",
       "Index_Id                                                                  \n",
       "1         french fries, french-fried potatoes, fries, chips              1\n",
       "2                                             mashed potato              2\n",
       "3                                   black olive, ripe olive              3\n",
       "4                                               face powder              4\n",
       "5                                     crab apple, crabapple              5\n",
       "6                                              Granny Smith              6\n",
       "7                                                strawberry              7\n",
       "8                                                 blueberry              8\n",
       "9                                                 cranberry              9\n",
       "10                                                  currant             10"
      ],
      "text/html": "<div>\n<style scoped>\n    .dataframe tbody tr th:only-of-type {\n        vertical-align: middle;\n    }\n\n    .dataframe tbody tr th {\n        vertical-align: top;\n    }\n\n    .dataframe thead th {\n        text-align: right;\n    }\n</style>\n<table border=\"1\" class=\"dataframe\">\n  <thead>\n    <tr style=\"text-align: right;\">\n      <th></th>\n      <th>Kategorija</th>\n      <th>ID_Kategorija</th>\n    </tr>\n    <tr>\n      <th>Index_Id</th>\n      <th></th>\n      <th></th>\n    </tr>\n  </thead>\n  <tbody>\n    <tr>\n      <th>1</th>\n      <td>french fries, french-fried potatoes, fries, chips</td>\n      <td>1</td>\n    </tr>\n    <tr>\n      <th>2</th>\n      <td>mashed potato</td>\n      <td>2</td>\n    </tr>\n    <tr>\n      <th>3</th>\n      <td>black olive, ripe olive</td>\n      <td>3</td>\n    </tr>\n    <tr>\n      <th>4</th>\n      <td>face powder</td>\n      <td>4</td>\n    </tr>\n    <tr>\n      <th>5</th>\n      <td>crab apple, crabapple</td>\n      <td>5</td>\n    </tr>\n    <tr>\n      <th>6</th>\n      <td>Granny Smith</td>\n      <td>6</td>\n    </tr>\n    <tr>\n      <th>7</th>\n      <td>strawberry</td>\n      <td>7</td>\n    </tr>\n    <tr>\n      <th>8</th>\n      <td>blueberry</td>\n      <td>8</td>\n    </tr>\n    <tr>\n      <th>9</th>\n      <td>cranberry</td>\n      <td>9</td>\n    </tr>\n    <tr>\n      <th>10</th>\n      <td>currant</td>\n      <td>10</td>\n    </tr>\n  </tbody>\n</table>\n</div>"
     },
     "metadata": {},
     "execution_count": 3
    }
   ],
   "source": [
    "# Working on *.csv files with pandas \n",
    "import pandas as pd \n",
    "# Opening the file containing categories from ILSVRC 2010\n",
    "df1 = pd.read_csv(\"MatLab/MatlabData.csv\", sep=\"\\t\", index_col=0) # Kategorije\n",
    "\n",
    "print(df1.shape)\n",
    "# Creating index\n",
    "df1['ID_Kategorija'] = df1.index\n",
    "# Show df\n",
    "df1.head(10)"
   ]
  },
  {
   "cell_type": "code",
   "execution_count": 4,
   "metadata": {},
   "outputs": [
    {
     "output_type": "execute_result",
     "data": {
      "text/plain": [
       "   ID_Kategorija\n",
       "0             78\n",
       "1            854\n",
       "2            435\n",
       "3            541\n",
       "4            973\n",
       "5            657\n",
       "6            168\n",
       "7            879\n",
       "8            390\n",
       "9            300"
      ],
      "text/html": "<div>\n<style scoped>\n    .dataframe tbody tr th:only-of-type {\n        vertical-align: middle;\n    }\n\n    .dataframe tbody tr th {\n        vertical-align: top;\n    }\n\n    .dataframe thead th {\n        text-align: right;\n    }\n</style>\n<table border=\"1\" class=\"dataframe\">\n  <thead>\n    <tr style=\"text-align: right;\">\n      <th></th>\n      <th>ID_Kategorija</th>\n    </tr>\n  </thead>\n  <tbody>\n    <tr>\n      <th>0</th>\n      <td>78</td>\n    </tr>\n    <tr>\n      <th>1</th>\n      <td>854</td>\n    </tr>\n    <tr>\n      <th>2</th>\n      <td>435</td>\n    </tr>\n    <tr>\n      <th>3</th>\n      <td>541</td>\n    </tr>\n    <tr>\n      <th>4</th>\n      <td>973</td>\n    </tr>\n    <tr>\n      <th>5</th>\n      <td>657</td>\n    </tr>\n    <tr>\n      <th>6</th>\n      <td>168</td>\n    </tr>\n    <tr>\n      <th>7</th>\n      <td>879</td>\n    </tr>\n    <tr>\n      <th>8</th>\n      <td>390</td>\n    </tr>\n    <tr>\n      <th>9</th>\n      <td>300</td>\n    </tr>\n  </tbody>\n</table>\n</div>"
     },
     "metadata": {},
     "execution_count": 4
    }
   ],
   "source": [
    "# Open validation set ground truth\n",
    "# Line 1 is picture ILSVRC2010_val_1.JPEG, its label is Category_ID 78\n",
    "df2 = pd.read_csv(\"ILSVRC2010_validation_ground_truth.txt\", sep=\" \")\n",
    "# Show df2\n",
    "df2.head(10)"
   ]
  },
  {
   "cell_type": "code",
   "execution_count": 5,
   "metadata": {
    "tags": []
   },
   "outputs": [
    {
     "output_type": "execute_result",
     "data": {
      "text/plain": [
       "   ID_Kategorija                   ImeDatoteke\n",
       "0             78  ILSVRC2010_val_00000001.JPEG\n",
       "1            854  ILSVRC2010_val_00000002.JPEG\n",
       "2            435  ILSVRC2010_val_00000003.JPEG\n",
       "3            541  ILSVRC2010_val_00000004.JPEG\n",
       "4            973  ILSVRC2010_val_00000005.JPEG\n",
       "5            657  ILSVRC2010_val_00000006.JPEG\n",
       "6            168  ILSVRC2010_val_00000007.JPEG\n",
       "7            879  ILSVRC2010_val_00000008.JPEG\n",
       "8            390  ILSVRC2010_val_00000009.JPEG\n",
       "9            300  ILSVRC2010_val_00000010.JPEG"
      ],
      "text/html": "<div>\n<style scoped>\n    .dataframe tbody tr th:only-of-type {\n        vertical-align: middle;\n    }\n\n    .dataframe tbody tr th {\n        vertical-align: top;\n    }\n\n    .dataframe thead th {\n        text-align: right;\n    }\n</style>\n<table border=\"1\" class=\"dataframe\">\n  <thead>\n    <tr style=\"text-align: right;\">\n      <th></th>\n      <th>ID_Kategorija</th>\n      <th>ImeDatoteke</th>\n    </tr>\n  </thead>\n  <tbody>\n    <tr>\n      <th>0</th>\n      <td>78</td>\n      <td>ILSVRC2010_val_00000001.JPEG</td>\n    </tr>\n    <tr>\n      <th>1</th>\n      <td>854</td>\n      <td>ILSVRC2010_val_00000002.JPEG</td>\n    </tr>\n    <tr>\n      <th>2</th>\n      <td>435</td>\n      <td>ILSVRC2010_val_00000003.JPEG</td>\n    </tr>\n    <tr>\n      <th>3</th>\n      <td>541</td>\n      <td>ILSVRC2010_val_00000004.JPEG</td>\n    </tr>\n    <tr>\n      <th>4</th>\n      <td>973</td>\n      <td>ILSVRC2010_val_00000005.JPEG</td>\n    </tr>\n    <tr>\n      <th>5</th>\n      <td>657</td>\n      <td>ILSVRC2010_val_00000006.JPEG</td>\n    </tr>\n    <tr>\n      <th>6</th>\n      <td>168</td>\n      <td>ILSVRC2010_val_00000007.JPEG</td>\n    </tr>\n    <tr>\n      <th>7</th>\n      <td>879</td>\n      <td>ILSVRC2010_val_00000008.JPEG</td>\n    </tr>\n    <tr>\n      <th>8</th>\n      <td>390</td>\n      <td>ILSVRC2010_val_00000009.JPEG</td>\n    </tr>\n    <tr>\n      <th>9</th>\n      <td>300</td>\n      <td>ILSVRC2010_val_00000010.JPEG</td>\n    </tr>\n  </tbody>\n</table>\n</div>"
     },
     "metadata": {},
     "execution_count": 5
    }
   ],
   "source": [
    "# Acquire filenames from folder containing ILSVRC2010_val*.JPEG\n",
    "from pathlib import Path\n",
    "import glob\n",
    "# Array with file names, from which we will create a dataframe\n",
    "imenaDatotek = []\n",
    "\n",
    "images = glob.glob(\"C:/Users/Rok/Downloads/ImageNet/2010/val/*.JPEG\")\n",
    "\n",
    "for image in images:\n",
    "    with open(image, 'rb') as file:\n",
    "        Path(file.name).stem\n",
    "        ime = Path(file.name).stem\n",
    "        ime += '.JPEG'\n",
    "        imeSkrajsano = ime[15:]\n",
    "        imenaDatotek.append({\n",
    "            'ImeDatoteke' : ime\n",
    "        })\n",
    "        \n",
    "# Creating new df\n",
    "df3 = pd.DataFrame(data=imenaDatotek)\n",
    "# Merging df2, df3. We now have a dataframe containing *filename* and its *Category_ID*\n",
    "df = pd.concat([df2, df3], axis=1)\n",
    "df.head(10)"
   ]
  },
  {
   "cell_type": "code",
   "execution_count": 6,
   "metadata": {},
   "outputs": [],
   "source": [
    "# Merging *Category_ID* of ILSVRC2010 along with *Category_ID* of validation set. 1676 labels against 1000\n",
    "df4 = df.merge(df1, how='right', on='ID_Kategorija')"
   ]
  },
  {
   "cell_type": "code",
   "execution_count": 7,
   "metadata": {},
   "outputs": [
    {
     "output_type": "execute_result",
     "data": {
      "text/plain": [
       "       ID_Kategorija                   ImeDatoteke  \\\n",
       "0                 78  ILSVRC2010_val_00000001.JPEG   \n",
       "1                 78  ILSVRC2010_val_00001183.JPEG   \n",
       "2                 78  ILSVRC2010_val_00001826.JPEG   \n",
       "3                 78  ILSVRC2010_val_00002958.JPEG   \n",
       "4                 78  ILSVRC2010_val_00004643.JPEG   \n",
       "...              ...                           ...   \n",
       "50671           1672                           NaN   \n",
       "50672           1673                           NaN   \n",
       "50673           1674                           NaN   \n",
       "50674           1675                           NaN   \n",
       "50675           1676                           NaN   \n",
       "\n",
       "                                              Kategorija  \n",
       "0                   seashore, coast, seacoast, sea-coast  \n",
       "1                   seashore, coast, seacoast, sea-coast  \n",
       "2                   seashore, coast, seacoast, sea-coast  \n",
       "3                   seashore, coast, seacoast, sea-coast  \n",
       "4                   seashore, coast, seacoast, sea-coast  \n",
       "...                                                  ...  \n",
       "50671  business, concern, business concern, business ...  \n",
       "50672                            carrier, common carrier  \n",
       "50673                                               line  \n",
       "50674  railway, railroad, railroad line, railway line...  \n",
       "50675  elevated railway, elevated railroad, elevated,...  \n",
       "\n",
       "[50676 rows x 3 columns]"
      ],
      "text/html": "<div>\n<style scoped>\n    .dataframe tbody tr th:only-of-type {\n        vertical-align: middle;\n    }\n\n    .dataframe tbody tr th {\n        vertical-align: top;\n    }\n\n    .dataframe thead th {\n        text-align: right;\n    }\n</style>\n<table border=\"1\" class=\"dataframe\">\n  <thead>\n    <tr style=\"text-align: right;\">\n      <th></th>\n      <th>ID_Kategorija</th>\n      <th>ImeDatoteke</th>\n      <th>Kategorija</th>\n    </tr>\n  </thead>\n  <tbody>\n    <tr>\n      <th>0</th>\n      <td>78</td>\n      <td>ILSVRC2010_val_00000001.JPEG</td>\n      <td>seashore, coast, seacoast, sea-coast</td>\n    </tr>\n    <tr>\n      <th>1</th>\n      <td>78</td>\n      <td>ILSVRC2010_val_00001183.JPEG</td>\n      <td>seashore, coast, seacoast, sea-coast</td>\n    </tr>\n    <tr>\n      <th>2</th>\n      <td>78</td>\n      <td>ILSVRC2010_val_00001826.JPEG</td>\n      <td>seashore, coast, seacoast, sea-coast</td>\n    </tr>\n    <tr>\n      <th>3</th>\n      <td>78</td>\n      <td>ILSVRC2010_val_00002958.JPEG</td>\n      <td>seashore, coast, seacoast, sea-coast</td>\n    </tr>\n    <tr>\n      <th>4</th>\n      <td>78</td>\n      <td>ILSVRC2010_val_00004643.JPEG</td>\n      <td>seashore, coast, seacoast, sea-coast</td>\n    </tr>\n    <tr>\n      <th>...</th>\n      <td>...</td>\n      <td>...</td>\n      <td>...</td>\n    </tr>\n    <tr>\n      <th>50671</th>\n      <td>1672</td>\n      <td>NaN</td>\n      <td>business, concern, business concern, business ...</td>\n    </tr>\n    <tr>\n      <th>50672</th>\n      <td>1673</td>\n      <td>NaN</td>\n      <td>carrier, common carrier</td>\n    </tr>\n    <tr>\n      <th>50673</th>\n      <td>1674</td>\n      <td>NaN</td>\n      <td>line</td>\n    </tr>\n    <tr>\n      <th>50674</th>\n      <td>1675</td>\n      <td>NaN</td>\n      <td>railway, railroad, railroad line, railway line...</td>\n    </tr>\n    <tr>\n      <th>50675</th>\n      <td>1676</td>\n      <td>NaN</td>\n      <td>elevated railway, elevated railroad, elevated,...</td>\n    </tr>\n  </tbody>\n</table>\n<p>50676 rows × 3 columns</p>\n</div>"
     },
     "metadata": {},
     "execution_count": 7
    }
   ],
   "source": [
    "# Show df4\n",
    "df4"
   ]
  },
  {
   "cell_type": "code",
   "execution_count": 8,
   "metadata": {},
   "outputs": [
    {
     "output_type": "execute_result",
     "data": {
      "text/plain": [
       "                      ImeDatoteke  \\\n",
       "0    ILSVRC2010_val_00000001.JPEG   \n",
       "50   ILSVRC2010_val_00000002.JPEG   \n",
       "100  ILSVRC2010_val_00000003.JPEG   \n",
       "150  ILSVRC2010_val_00000004.JPEG   \n",
       "200  ILSVRC2010_val_00000005.JPEG   \n",
       "\n",
       "                                            Kategorija  ID_Kategorija  \n",
       "0                 seashore, coast, seacoast, sea-coast             78  \n",
       "50                      bookshop, bookstore, bookstall            854  \n",
       "100                           kit fox, Vulpes macrotis            435  \n",
       "150                            scale, weighing machine            541  \n",
       "200  chain mail, ring mail, mail, chain armor, chai...            973  "
      ],
      "text/html": "<div>\n<style scoped>\n    .dataframe tbody tr th:only-of-type {\n        vertical-align: middle;\n    }\n\n    .dataframe tbody tr th {\n        vertical-align: top;\n    }\n\n    .dataframe thead th {\n        text-align: right;\n    }\n</style>\n<table border=\"1\" class=\"dataframe\">\n  <thead>\n    <tr style=\"text-align: right;\">\n      <th></th>\n      <th>ImeDatoteke</th>\n      <th>Kategorija</th>\n      <th>ID_Kategorija</th>\n    </tr>\n  </thead>\n  <tbody>\n    <tr>\n      <th>0</th>\n      <td>ILSVRC2010_val_00000001.JPEG</td>\n      <td>seashore, coast, seacoast, sea-coast</td>\n      <td>78</td>\n    </tr>\n    <tr>\n      <th>50</th>\n      <td>ILSVRC2010_val_00000002.JPEG</td>\n      <td>bookshop, bookstore, bookstall</td>\n      <td>854</td>\n    </tr>\n    <tr>\n      <th>100</th>\n      <td>ILSVRC2010_val_00000003.JPEG</td>\n      <td>kit fox, Vulpes macrotis</td>\n      <td>435</td>\n    </tr>\n    <tr>\n      <th>150</th>\n      <td>ILSVRC2010_val_00000004.JPEG</td>\n      <td>scale, weighing machine</td>\n      <td>541</td>\n    </tr>\n    <tr>\n      <th>200</th>\n      <td>ILSVRC2010_val_00000005.JPEG</td>\n      <td>chain mail, ring mail, mail, chain armor, chai...</td>\n      <td>973</td>\n    </tr>\n  </tbody>\n</table>\n</div>"
     },
     "metadata": {},
     "execution_count": 8
    }
   ],
   "source": [
    "# Change column position\n",
    "df4 = df4[['ImeDatoteke','Kategorija','ID_Kategorija']] \n",
    "# Sort by filename\n",
    "df4 = df4.sort_values(by=['ImeDatoteke'])\n",
    "# Write to file containing *Category_ID*, *filename*, *Category*, *.csv\n",
    "df4.to_csv(\"OutputCSV/Ime,Kategorija,ID.csv\", sep=\";\", decimal=\".\", index=False)\n",
    "# Show df4\n",
    "df4.head()"
   ]
  },
  {
   "cell_type": "code",
   "execution_count": 9,
   "metadata": {},
   "outputs": [
    {
     "output_type": "execute_result",
     "data": {
      "text/plain": [
       "Empty DataFrame\n",
       "Columns: []\n",
       "Index: [tench, Tinca tinca, goldfish, Carassius auratus, great white shark, white shark, man-eater, man-eating shark, Carcharodon carcharias, tiger shark, Galeocerdo cuvieri, hammerhead, hammerhead shark]"
      ],
      "text/html": "<div>\n<style scoped>\n    .dataframe tbody tr th:only-of-type {\n        vertical-align: middle;\n    }\n\n    .dataframe tbody tr th {\n        vertical-align: top;\n    }\n\n    .dataframe thead th {\n        text-align: right;\n    }\n</style>\n<table border=\"1\" class=\"dataframe\">\n  <thead>\n    <tr style=\"text-align: right;\">\n      <th></th>\n    </tr>\n    <tr>\n      <th>Kategorija</th>\n    </tr>\n  </thead>\n  <tbody>\n    <tr>\n      <th>tench, Tinca tinca</th>\n    </tr>\n    <tr>\n      <th>goldfish, Carassius auratus</th>\n    </tr>\n    <tr>\n      <th>great white shark, white shark, man-eater, man-eating shark, Carcharodon carcharias</th>\n    </tr>\n    <tr>\n      <th>tiger shark, Galeocerdo cuvieri</th>\n    </tr>\n    <tr>\n      <th>hammerhead, hammerhead shark</th>\n    </tr>\n  </tbody>\n</table>\n</div>"
     },
     "metadata": {},
     "execution_count": 9
    }
   ],
   "source": [
    "# Open categories AlexNet can predict\n",
    "df5 = pd.read_csv(\"class_names_ImageNet.txt\", sep=\";\", index_col=0) # Kategorije\n",
    "df5.head()"
   ]
  },
  {
   "cell_type": "code",
   "execution_count": 12,
   "metadata": {},
   "outputs": [],
   "source": [
    "# Merge df4 and df5 - dataframes with categories\n",
    "df = df5.merge(df4, how='outer', on='Kategorija', indicator=True)\n",
    "# Drop column filename\n",
    "df = df.drop(columns=['ImeDatoteke'])\n",
    "# Save only rows, where df4 and df5 both contained same category - _merge = both\n",
    "df = df.loc[df['_merge'] == 'both']\n",
    "# Drop all duplicates - different pictures belong to same category\n",
    "df = df.drop_duplicates(subset='Kategorija', keep=\"first\")\n",
    "# Drop all other columns but Category\n",
    "df = df.drop(columns=['_merge','ID_Kategorija'])\n",
    "# Save to *.csv - Both meaning category can be predicted and is included in ILSVRC2010 validation set\n",
    "df.to_csv(\"OutputCSV/BothKategorije.csv\", sep=\";\", decimal=\".\", index=False)"
   ]
  },
  {
   "cell_type": "code",
   "execution_count": null,
   "metadata": {},
   "outputs": [],
   "source": []
  }
 ]
}